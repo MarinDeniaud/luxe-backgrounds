{
 "cells": [
  {
   "cell_type": "markdown",
   "id": "eddebc9c-937a-4383-8a7e-86f4acad004b",
   "metadata": {
    "tags": []
   },
   "source": [
    "### Imports"
   ]
  },
  {
   "cell_type": "code",
   "execution_count": 166,
   "id": "dd59ac38-acdd-4979-80fa-74b7a61d6fca",
   "metadata": {
    "tags": []
   },
   "outputs": [],
   "source": [
    "import numpy as _np\n",
    "import matplotlib.pyplot as _plt\n",
    "import sys\n",
    "import os\n",
    "import scipy.io\n",
    "\n",
    "# Add the parent folder to sys.path\n",
    "parent_folder = os.path.abspath('..')\n",
    "if parent_folder not in sys.path:\n",
    "    sys.path.append(parent_folder)\n",
    "\n",
    "# Import the module from the parent folder\n",
    "import XFEL_BPM"
   ]
  },
  {
   "cell_type": "markdown",
   "id": "ff919867-9d9a-44c9-832c-4266a8a06723",
   "metadata": {},
   "source": [
    "### Date and prefix"
   ]
  },
  {
   "cell_type": "code",
   "execution_count": 167,
   "id": "9a2ddf67-333e-456e-8669-976d060ddbc6",
   "metadata": {
    "tags": []
   },
   "outputs": [],
   "source": [
    "date = \"2025_02_11\"\n",
    "save_name_prefix = \"plots/XFEL/Size/\" + date + \"_XFEL_plot\""
   ]
  },
  {
   "cell_type": "markdown",
   "id": "9974677a-27ac-4fed-96bc-9c2d5dccb0b7",
   "metadata": {},
   "source": [
    "### Tests"
   ]
  },
  {
   "cell_type": "code",
   "execution_count": 171,
   "id": "fcfc9807-87f9-46c6-a64e-a5ed23f8ad4e",
   "metadata": {
    "tags": []
   },
   "outputs": [],
   "source": [
    "file1 = '../XFEL_data/all-wirescan-results-for-marin/2023-06-05T154843_quad_scan_proj_TL_OTRBW_1899_TL_OTRBW_1914_TL_OTRBW_1929_TL_wire.mat'\n",
    "mat1 = scipy.io.loadmat(file1)"
   ]
  },
  {
   "cell_type": "code",
   "execution_count": 176,
   "id": "2ed2fc1f-f333-42d6-a5f8-fad91d2a0eb6",
   "metadata": {
    "tags": []
   },
   "outputs": [
    {
     "data": {
      "text/plain": [
       "array([[array(['OTRBW.1899.TL'], dtype='<U13')],\n",
       "       [array(['OTRBW.1914.TL'], dtype='<U13')],\n",
       "       [array(['OTRBW.1929.TL'], dtype='<U13')],\n",
       "       [array(['OTRBW.1899.TL'], dtype='<U13')],\n",
       "       [array(['OTRBW.1914.TL'], dtype='<U13')],\n",
       "       [array(['OTRBW.1929.TL'], dtype='<U13')]], dtype=object)"
      ]
     },
     "execution_count": 176,
     "metadata": {},
     "output_type": "execute_result"
    }
   ],
   "source": [
    "mat1['quad_scan']['wire'][0][0][0][0]['measurement_screen']"
   ]
  },
  {
   "cell_type": "code",
   "execution_count": 270,
   "id": "5416d55c-1847-4464-bea7-4193692dfe72",
   "metadata": {
    "tags": []
   },
   "outputs": [
    {
     "data": {
      "text/plain": [
       "array([[29.4],\n",
       "       [30.5],\n",
       "       [29.9],\n",
       "       [26.9],\n",
       "       [33.1],\n",
       "       [28.8]])"
      ]
     },
     "execution_count": 270,
     "metadata": {},
     "output_type": "execute_result"
    }
   ],
   "source": [
    "mat1['quad_scan']['wire'][0][0][0][0]['betay_at_screen']"
   ]
  },
  {
   "cell_type": "code",
   "execution_count": 271,
   "id": "28a995fc-10ef-4c30-bef7-02d45adf81a0",
   "metadata": {
    "tags": []
   },
   "outputs": [
    {
     "data": {
      "text/plain": [
       "array([[166],\n",
       "       [188],\n",
       "       [227],\n",
       "       [121],\n",
       "       [142],\n",
       "       [181]])"
      ]
     },
     "execution_count": 271,
     "metadata": {},
     "output_type": "execute_result"
    }
   ],
   "source": [
    "mat1['quad_scan']['wire'][0][0][0][0]['psiy_at_screen']"
   ]
  },
  {
   "cell_type": "code",
   "execution_count": 179,
   "id": "4429a70e-fc37-4cdb-8048-c8c53f132f4e",
   "metadata": {
    "tags": []
   },
   "outputs": [
    {
     "data": {
      "text/plain": [
       "array([[0.125, 0.0514],\n",
       "       [3.7e-05, 4.04e-05],\n",
       "       [3.71e-05, 3.9e-05],\n",
       "       [8.84e-05, 8.69e-05],\n",
       "       [5.14e-05, 5.22e-05]])"
      ]
     },
     "execution_count": 179,
     "metadata": {},
     "output_type": "execute_result"
    }
   ],
   "source": [
    "mat1['measurement_data'][0, 0]['spotsize_gauss']"
   ]
  },
  {
   "cell_type": "code",
   "execution_count": 180,
   "id": "74751ffb-b2c2-485f-aa30-ae2e5cb3fd49",
   "metadata": {
    "tags": []
   },
   "outputs": [
    {
     "data": {
      "text/plain": [
       "[<matplotlib.lines.Line2D at 0x31de3f610>,\n",
       " <matplotlib.lines.Line2D at 0x31de76250>,\n",
       " <matplotlib.lines.Line2D at 0x31de767d0>,\n",
       " <matplotlib.lines.Line2D at 0x31de75850>,\n",
       " <matplotlib.lines.Line2D at 0x31de76c50>]"
      ]
     },
     "execution_count": 180,
     "metadata": {},
     "output_type": "execute_result"
    },
    {
     "data": {
      "image/png": "[encoded data removed]",
      "text/plain": [
       "<Figure size 640x480 with 1 Axes>"
      ]
     },
     "metadata": {},
     "output_type": "display_data"
    }
   ],
   "source": [
    "M0 = mat1['measurement_data'][0, 0]\n",
    "_plt.plot(M0[\"positions_x\"], M0[\"intensities_x\"][:,0:])"
   ]
  },
  {
   "cell_type": "code",
   "execution_count": 272,
   "id": "8f9c4987-714f-4b7e-b88f-ad58270430ab",
   "metadata": {
    "tags": []
   },
   "outputs": [
    {
     "data": {
      "text/plain": [
       "array([[array([[(array([[5.46e-05],\n",
       "                       [4.72e-05],\n",
       "                       [7.96e-05],\n",
       "                       [7.67e-05],\n",
       "                       [7.47e-05],\n",
       "                       [3.82e-05]]), array([[2.73e-06],\n",
       "                       [2.36e-06],\n",
       "                       [3.98e-06],\n",
       "                       [3.84e-06],\n",
       "                       [3.74e-06],\n",
       "                       [1.91e-06]]), array([[0.000127],\n",
       "                       [0.000205],\n",
       "                       [0.000272],\n",
       "                       [0.000313],\n",
       "                       [5.27e-05],\n",
       "                       [8.04e-05]]), array([[6.35e-06],\n",
       "                       [1.03e-05],\n",
       "                       [1.36e-05],\n",
       "                       [1.57e-05],\n",
       "                       [2.64e-06],\n",
       "                       [4.02e-06]]))                   ]], dtype=[('beamsize', 'O'), ('beamsize_err', 'O'), ('centerofmass', 'O'), ('centerofmass_err', 'O')])]], dtype=object)"
      ]
     },
     "execution_count": 272,
     "metadata": {},
     "output_type": "execute_result"
    }
   ],
   "source": [
    "mat1['result'][0, 0]['y']['Gaussian']"
   ]
  },
  {
   "cell_type": "markdown",
   "id": "226c2a1b-442a-40af-8edb-5f0b8d773fe3",
   "metadata": {},
   "source": [
    "### Load file"
   ]
  },
  {
   "cell_type": "code",
   "execution_count": 172,
   "id": "5310f9c3-fbfa-4e66-9e7a-afc0a6185ce3",
   "metadata": {
    "tags": []
   },
   "outputs": [],
   "source": [
    "file = '../XFEL_data/all-wirescan-results-for-marin/2024-09-01T015043_quad_scan_proj_L3_OTRBW_1523_L3_OTRBW_1597_L3_OTRBW_1635_L3_wire.mat'\n",
    "mat = scipy.io.loadmat(file)"
   ]
  },
  {
   "cell_type": "code",
   "execution_count": 198,
   "id": "52465ecd-f74f-4a3d-a463-3ac683089379",
   "metadata": {
    "tags": []
   },
   "outputs": [],
   "source": [
    "result = mat['result']\n",
    "quad_scan = mat['quad_scan']\n",
    "measurement_data = mat['measurement_data']"
   ]
  },
  {
   "cell_type": "markdown",
   "id": "8051b796-a037-4a82-9915-07ec0427b7f6",
   "metadata": {},
   "source": [
    "# Quad Scan"
   ]
  },
  {
   "cell_type": "code",
   "execution_count": 199,
   "id": "c62318c0-b087-46ea-97ce-e981d126a2e0",
   "metadata": {
    "tags": []
   },
   "outputs": [
    {
     "data": {
      "text/plain": [
       "('slice_measurement',\n",
       " 'all_quads',\n",
       " 'scan_quads',\n",
       " 'scan_quads_v',\n",
       " 'common_power_supply_v',\n",
       " 'all_screens',\n",
       " 'screen_positions',\n",
       " 'reference_point',\n",
       " 'twiss_at_reference_point',\n",
       " 'beta_functions',\n",
       " 'wire',\n",
       " 'screen')"
      ]
     },
     "execution_count": 199,
     "metadata": {},
     "output_type": "execute_result"
    }
   ],
   "source": [
    "quad_scan.dtype.names"
   ]
  },
  {
   "cell_type": "code",
   "execution_count": 200,
   "id": "0b086fca-23bc-4dd6-881f-059ec1ba5f40",
   "metadata": {
    "tags": []
   },
   "outputs": [
    {
     "data": {
      "text/plain": [
       "array([[array([[0]], dtype=uint8)]], dtype=object)"
      ]
     },
     "execution_count": 200,
     "metadata": {},
     "output_type": "execute_result"
    }
   ],
   "source": [
    "quad_scan[\"slice_measurement\"]"
   ]
  },
  {
   "cell_type": "code",
   "execution_count": 122,
   "id": "58298cc2-6d4c-477e-9266-817351a31806",
   "metadata": {
    "tags": []
   },
   "outputs": [
    {
     "data": {
      "text/plain": [
       "('quad_strength',\n",
       " 'measurement_screen',\n",
       " 'screen_position',\n",
       " 'betax_at_screen',\n",
       " 'betay_at_screen',\n",
       " 'psix_at_screen',\n",
       " 'psiy_at_screen',\n",
       " 'tranfer_matrices')"
      ]
     },
     "execution_count": 122,
     "metadata": {},
     "output_type": "execute_result"
    }
   ],
   "source": [
    "wire = quad_scan[\"wire\"][0][0][0][0]\n",
    "wire.dtype.names"
   ]
  },
  {
   "cell_type": "code",
   "execution_count": 123,
   "id": "84294fce-a2c9-4931-9f8b-6d245cfa42ac",
   "metadata": {
    "tags": []
   },
   "outputs": [
    {
     "data": {
      "text/plain": [
       "array([[array(['OTRBW.1523.L3'], dtype='<U13')],\n",
       "       [array(['OTRBW.1597.L3'], dtype='<U13')],\n",
       "       [array(['OTRBW.1635.L3'], dtype='<U13')],\n",
       "       [array(['OTRBW.1523.L3'], dtype='<U13')],\n",
       "       [array(['OTRBW.1597.L3'], dtype='<U13')],\n",
       "       [array(['OTRBW.1635.L3'], dtype='<U13')]], dtype=object)"
      ]
     },
     "execution_count": 123,
     "metadata": {},
     "output_type": "execute_result"
    }
   ],
   "source": [
    "wire['measurement_screen']"
   ]
  },
  {
   "cell_type": "code",
   "execution_count": 124,
   "id": "a3e59a81-b702-4af1-af66-b0fb0f382f82",
   "metadata": {
    "tags": []
   },
   "outputs": [
    {
     "data": {
      "text/plain": [
       "array([[0.0462, -0.043, 0.0307, -0.0307, 0.0307, -0.0291, 0.0392, -0.0597, 0.0948, -0.178, -0.178, 0.349, 0.349, -0.16],\n",
       "       [0.0462, -0.043, 0.0307, -0.0307, 0.0307, -0.0291, 0.0392, -0.0597, 0.0948, -0.178, -0.178, 0.349, 0.349, -0.16],\n",
       "       [0.0462, -0.043, 0.0307, -0.0307, 0.0307, -0.0291, 0.0392, -0.0597, 0.0948, -0.178, -0.178, 0.349, 0.349, -0.16],\n",
       "       [0.0514, -0.0474, 0.0343, -0.0343, 0.0343, -0.0236, 0.0392, -0.0597, 0.0948, -0.178, -0.178, 0.349, 0.349, -0.16],\n",
       "       [0.0514, -0.0474, 0.0343, -0.0343, 0.0343, -0.0236, 0.0392, -0.0597, 0.0948, -0.178, -0.178, 0.349, 0.349, -0.16],\n",
       "       [0.0514, -0.0474, 0.0343, -0.0343, 0.0343, -0.0236, 0.0392, -0.0597, 0.0948, -0.178, -0.178, 0.349, 0.349, -0.16]])"
      ]
     },
     "execution_count": 124,
     "metadata": {},
     "output_type": "execute_result"
    }
   ],
   "source": [
    "wire['quad_strength']"
   ]
  },
  {
   "cell_type": "code",
   "execution_count": 125,
   "id": "2c71724a-dea5-497b-83f6-6b73c635d93d",
   "metadata": {
    "tags": []
   },
   "outputs": [
    {
     "data": {
      "text/plain": [
       "array([[87.5],\n",
       "       [76.3],\n",
       "       [74.9],\n",
       "       [75.8],\n",
       "       [66.2],\n",
       "       [58.8]])"
      ]
     },
     "execution_count": 125,
     "metadata": {},
     "output_type": "execute_result"
    }
   ],
   "source": [
    "wire['betax_at_screen']"
   ]
  },
  {
   "cell_type": "code",
   "execution_count": 126,
   "id": "29db9417-e5dc-43c2-8478-6c5d7fa5a31d",
   "metadata": {
    "tags": []
   },
   "outputs": [
    {
     "data": {
      "text/plain": [
       "array([[63],\n",
       "       [112],\n",
       "       [137],\n",
       "       [81.6],\n",
       "       [138],\n",
       "       [166]])"
      ]
     },
     "execution_count": 126,
     "metadata": {},
     "output_type": "execute_result"
    }
   ],
   "source": [
    "wire['psix_at_screen']"
   ]
  },
  {
   "cell_type": "markdown",
   "id": "8188b2e5-1adc-4e5a-ab06-6e492b2a056d",
   "metadata": {},
   "source": [
    "# Wire Scan"
   ]
  },
  {
   "cell_type": "code",
   "execution_count": 127,
   "id": "1f44fcf7-6858-4f39-92fd-adddce07c1fa",
   "metadata": {
    "tags": []
   },
   "outputs": [
    {
     "data": {
      "text/plain": [
       "('positions_x',\n",
       " 'intensities_x',\n",
       " 'gaussian_fit_params_x',\n",
       " 'positions_y',\n",
       " 'intensities_y',\n",
       " 'gaussian_fit_params_y',\n",
       " 'cal',\n",
       " 'spotsize_gauss',\n",
       " 'spotsizeE_gauss',\n",
       " 'centerofmass_gauss',\n",
       " 'centerofmassE_gauss',\n",
       " 'spotsize_rms',\n",
       " 'spotsizeE_rms',\n",
       " 'centerofmass_rms',\n",
       " 'centerofmassE_rms',\n",
       " 'intensity',\n",
       " 'intensityE')"
      ]
     },
     "execution_count": 127,
     "metadata": {},
     "output_type": "execute_result"
    }
   ],
   "source": [
    "measurement_data.dtype.names"
   ]
  },
  {
   "cell_type": "code",
   "execution_count": 153,
   "id": "15dcb496-1b49-49ae-a43f-5402323638c5",
   "metadata": {
    "tags": []
   },
   "outputs": [],
   "source": [
    "meas0 = measurement_data[0, 0]\n",
    "meas1 = measurement_data[0, 1]\n",
    "meas2 = measurement_data[0, 2]"
   ]
  },
  {
   "cell_type": "code",
   "execution_count": 160,
   "id": "85b54bbc-e617-405b-93a5-d23e67633bf2",
   "metadata": {
    "tags": []
   },
   "outputs": [
    {
     "data": {
      "text/plain": [
       "array([[1, 1]], dtype=uint8)"
      ]
     },
     "execution_count": 160,
     "metadata": {},
     "output_type": "execute_result"
    }
   ],
   "source": [
    "meas2['cal']"
   ]
  },
  {
   "cell_type": "code",
   "execution_count": 257,
   "id": "4408b5a5-221d-4b64-9264-53b99ccde37e",
   "metadata": {
    "tags": []
   },
   "outputs": [
    {
     "data": {
      "text/plain": [
       "(100, 5)"
      ]
     },
     "execution_count": 257,
     "metadata": {},
     "output_type": "execute_result"
    }
   ],
   "source": [
    "mat[\"measurement_data\"][0, 0][\"intensities_x\"].shape"
   ]
  },
  {
   "cell_type": "code",
   "execution_count": 155,
   "id": "4af7b7eb-26c3-43a9-bb67-e943861e6316",
   "metadata": {
    "tags": []
   },
   "outputs": [
    {
     "data": {
      "text/plain": [
       "[<matplotlib.lines.Line2D at 0x31b43ad90>,\n",
       " <matplotlib.lines.Line2D at 0x31dd09010>,\n",
       " <matplotlib.lines.Line2D at 0x31dd09310>,\n",
       " <matplotlib.lines.Line2D at 0x31dd09610>,\n",
       " <matplotlib.lines.Line2D at 0x31dd09a90>]"
      ]
     },
     "execution_count": 155,
     "metadata": {},
     "output_type": "execute_result"
    },
    {
     "data": {
      "image/png": "[encoded data removed]",
      "text/plain": [
       "<Figure size 640x480 with 1 Axes>"
      ]
     },
     "metadata": {},
     "output_type": "display_data"
    }
   ],
   "source": [
    "_plt.plot(meas0[\"positions_x\"], meas0[\"intensities_x\"][:,0:])"
   ]
  },
  {
   "cell_type": "code",
   "execution_count": 253,
   "id": "bb17b3e5-9b94-4ebb-bcf0-282225b131a2",
   "metadata": {
    "tags": []
   },
   "outputs": [
    {
     "data": {
      "text/plain": [
       "[<matplotlib.lines.Line2D at 0x31df508d0>,\n",
       " <matplotlib.lines.Line2D at 0x31e02a6d0>,\n",
       " <matplotlib.lines.Line2D at 0x31df50a50>,\n",
       " <matplotlib.lines.Line2D at 0x31df45690>,\n",
       " <matplotlib.lines.Line2D at 0x31df45350>]"
      ]
     },
     "execution_count": 253,
     "metadata": {},
     "output_type": "execute_result"
    },
    {
     "data": {
      "image/png": "[encoded data removed]",
      "text/plain": [
       "<Figure size 640x480 with 1 Axes>"
      ]
     },
     "metadata": {},
     "output_type": "display_data"
    }
   ],
   "source": [
    "_plt.plot(meas0[\"positions_y\"], meas0[\"intensities_y\"][:,0:])"
   ]
  },
  {
   "cell_type": "code",
   "execution_count": 156,
   "id": "e764469d-0c6a-4e56-a55b-e7740e0b0bd1",
   "metadata": {
    "tags": []
   },
   "outputs": [
    {
     "data": {
      "text/plain": [
       "[<matplotlib.lines.Line2D at 0x31dc97ad0>,\n",
       " <matplotlib.lines.Line2D at 0x31dd85110>,\n",
       " <matplotlib.lines.Line2D at 0x31dd85350>,\n",
       " <matplotlib.lines.Line2D at 0x31dd857d0>,\n",
       " <matplotlib.lines.Line2D at 0x31dd85a90>]"
      ]
     },
     "execution_count": 156,
     "metadata": {},
     "output_type": "execute_result"
    },
    {
     "data": {
      "image/png": "[encoded data removed]",
      "text/plain": [
       "<Figure size 640x480 with 1 Axes>"
      ]
     },
     "metadata": {},
     "output_type": "display_data"
    }
   ],
   "source": [
    "_plt.plot(meas1[\"positions_x\"], meas1[\"intensities_x\"][:,0:])"
   ]
  },
  {
   "cell_type": "markdown",
   "id": "c3bb73b1-31d9-4873-81e8-c61ad3925967",
   "metadata": {},
   "source": [
    "# Results"
   ]
  },
  {
   "cell_type": "code",
   "execution_count": 85,
   "id": "9dde850e-6f41-46a5-89d3-02d185ce287c",
   "metadata": {
    "tags": []
   },
   "outputs": [
    {
     "data": {
      "text/plain": [
       "('version',\n",
       " 'seq_ts',\n",
       " 'seq_id',\n",
       " 'measurement_id',\n",
       " 'monitor',\n",
       " 'gamma_rel',\n",
       " 'energy',\n",
       " 'slice_index',\n",
       " 'bunch_index',\n",
       " 'preview',\n",
       " 'x',\n",
       " 'y',\n",
       " 'valid_x',\n",
       " 'valid_y',\n",
       " 'design',\n",
       " 'fit_x',\n",
       " 'fit_y',\n",
       " 'transfer_matrix',\n",
       " 'machine',\n",
       " 'category')"
      ]
     },
     "execution_count": 85,
     "metadata": {},
     "output_type": "execute_result"
    }
   ],
   "source": [
    "result.dtype.names"
   ]
  },
  {
   "cell_type": "code",
   "execution_count": 266,
   "id": "9c656bda-0062-40f3-acf8-22ed9cc7db38",
   "metadata": {
    "tags": []
   },
   "outputs": [
    {
     "data": {
      "text/plain": [
       "array([[array([[1e-06]])]], dtype=object)"
      ]
     },
     "execution_count": 266,
     "metadata": {},
     "output_type": "execute_result"
    }
   ],
   "source": [
    "result[0, 0]['design']['emittance_x']"
   ]
  },
  {
   "cell_type": "code",
   "execution_count": 265,
   "id": "bfb16918-c2f9-4ba0-8d84-d2447ba32ec5",
   "metadata": {
    "tags": []
   },
   "outputs": [
    {
     "data": {
      "text/plain": [
       "('Gaussian', 'RMS', 'intensity', 'intensity_err', 'profiles')"
      ]
     },
     "execution_count": 265,
     "metadata": {},
     "output_type": "execute_result"
    }
   ],
   "source": [
    "result[0, 0]['x'].dtype.names"
   ]
  },
  {
   "cell_type": "code",
   "execution_count": 262,
   "id": "d9faa4a9-b1ba-46a1-a7be-7db8ef8ff207",
   "metadata": {
    "tags": []
   },
   "outputs": [
    {
     "data": {
      "text/plain": [
       "array([[array([[(array([[4.29e-05],\n",
       "                       [6.55e-05],\n",
       "                       [0.000108],\n",
       "                       [4.71e-05],\n",
       "                       [7.36e-05],\n",
       "                       [0.000101]]), array([[2.15e-06],\n",
       "                       [3.27e-06],\n",
       "                       [5.41e-06],\n",
       "                       [2.36e-06],\n",
       "                       [3.68e-06],\n",
       "                       [5.06e-06]]), array([[1.02e-06],\n",
       "                       [0.000133],\n",
       "                       [1.28e-05],\n",
       "                       [1.65e-06],\n",
       "                       [0.000137],\n",
       "                       [1.49e-05]]), array([[5.1e-08],\n",
       "                       [6.66e-06],\n",
       "                       [6.4e-07],\n",
       "                       [8.24e-08],\n",
       "                       [6.83e-06],\n",
       "                       [7.47e-07]]))                   ]], dtype=[('beamsize', 'O'), ('beamsize_err', 'O'), ('centerofmass', 'O'), ('centerofmass_err', 'O')])]], dtype=object)"
      ]
     },
     "execution_count": 262,
     "metadata": {},
     "output_type": "execute_result"
    }
   ],
   "source": [
    "result[0, 0]['x']['Gaussian']"
   ]
  },
  {
   "cell_type": "code",
   "execution_count": null,
   "id": "243cc143-1b74-4f05-87b9-d0530e25d119",
   "metadata": {},
   "outputs": [],
   "source": []
  }
 ],
 "metadata": {
  "kernelspec": {
   "display_name": "Python 3 (ipykernel)",
   "language": "python",
   "name": "python3"
  },
  "language_info": {
   "codemirror_mode": {
    "name": "ipython",
    "version": 3
   },
   "file_extension": ".py",
   "mimetype": "text/x-python",
   "name": "python",
   "nbconvert_exporter": "python",
   "pygments_lexer": "ipython3",
   "version": "3.11.6"
  }
 },
 "nbformat": 4,
 "nbformat_minor": 5
}
