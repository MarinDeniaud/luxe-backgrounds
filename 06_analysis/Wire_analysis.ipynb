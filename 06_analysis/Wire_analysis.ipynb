{
 "cells": [
  {
   "cell_type": "code",
   "execution_count": 1,
   "id": "8e56b5fa-8ed6-4620-a5e5-3cbf2dce1687",
   "metadata": {
    "tags": []
   },
   "outputs": [
    {
     "name": "stdout",
     "output_type": "stream",
     "text": [
      "Welcome to JupyROOT 6.29/01\n"
     ]
    }
   ],
   "source": [
    "import numpy as _np\n",
    "import matplotlib.pyplot as _plt\n",
    "import pandas as _pd\n",
    "import glob as _gl\n",
    "import pymad8 as _m8\n",
    "import pybdsim as _bd\n",
    "import beamTracking\n",
    "import beamWire\n",
    "from scipy.optimize import curve_fit"
   ]
  },
  {
   "cell_type": "code",
   "execution_count": 2,
   "id": "0bd9c061-7ab2-4ead-ba31-e156766910e0",
   "metadata": {
    "tags": []
   },
   "outputs": [],
   "source": [
    "date = \"2023_05_15\"\n",
    "save_name_prefix = \"plots/BeamWire/\" + date + \"_T20_plot\""
   ]
  },
  {
   "cell_type": "code",
   "execution_count": 3,
   "id": "e3a16cad-269b-430f-a843-c0aaf5455325",
   "metadata": {
    "tags": []
   },
   "outputs": [],
   "source": [
    "#beamWire.analyticConvolution()"
   ]
  },
  {
   "cell_type": "code",
   "execution_count": 4,
   "id": "66ef9686-7c76-4d27-b00b-07b8e8883003",
   "metadata": {
    "tags": []
   },
   "outputs": [],
   "source": [
    "paramdict = {'x' : {'mean': 0, 'std': 10e-6}, #10e-6\n",
    "             'xp': {'mean': 0, 'std': 10e-6}, #10e-6\n",
    "             'y' : {'mean': 0, 'std': 10e-6}, #10e-6\n",
    "             'yp': {'mean': 0, 'std': 10e-6}, #10e-6\n",
    "             'z' : {'mean': 0, 'std': 30e-6}, #30e-6\n",
    "             'DE': {'mean': 0, 'std': 3e-3},  #3e-3\n",
    "            }"
   ]
  },
  {
   "cell_type": "code",
   "execution_count": 5,
   "id": "474632a8-ef18-4411-828e-3bff50601082",
   "metadata": {
    "tags": []
   },
   "outputs": [],
   "source": [
    "npart = 10000\n",
    "T_C = _m8.Sim.Track_Collection(14)\n",
    "T_C.GenerateNtracks(npart, paramdict)\n",
    "T_C.WriteBdsimTrack('../03_bdsimModel/track_input_bdsim_wire')"
   ]
  },
  {
   "cell_type": "code",
   "execution_count": null,
   "id": "83a20c8e-e30b-42a1-ab94-74bd05aac6be",
   "metadata": {},
   "outputs": [
    {
     "name": "stdout",
     "output_type": "stream",
     "text": [
      "Loading file ../03_bdsimModel/T20_for_wire.gmad. Scan 10000 particles with 0.5 diameter: |█████████████████████████████████-----------------| 66.7% Complete\r"
     ]
    }
   ],
   "source": [
    "#beamWire.runOneOffset(\"../03_bdsimModel/T20_for_wire.gmad\", npart=npart, diameter=0.5, offsetX=0.1)\n",
    "beamWire.runScanOffset('../03_bdsimModel/T20_for_wire.gmad', npart=npart, diameter=0.5, offsetXmin=-0.5, offsetXmax=0.5, nbpts=21)"
   ]
  },
  {
   "cell_type": "code",
   "execution_count": null,
   "id": "8c20f379-76aa-44b3-9b6c-ecd9cf43c789",
   "metadata": {},
   "outputs": [],
   "source": [
    "OFFSETS, NPHOTONS = beamWire.countPhotonsAllFiles('T20_for_wire')"
   ]
  },
  {
   "cell_type": "code",
   "execution_count": null,
   "id": "9d7778a6-abc6-4a22-8753-9e95c0c1cf29",
   "metadata": {},
   "outputs": [],
   "source": [
    "beamWire.PlotConvolutionExample()\n",
    "_plt.savefig(\"{}_convolution_example\".format(save_name_prefix), dpi=\"figure\", bbox_inches='tight', facecolor=\"#FF000000\")"
   ]
  },
  {
   "cell_type": "code",
   "execution_count": null,
   "id": "1b8529fc-0e0e-4046-8a92-4828cd91418b",
   "metadata": {},
   "outputs": [],
   "source": [
    "beamWire.PlotConvolution(OFFSETS, NPHOTONS)\n",
    "_plt.savefig(\"{}_photon_beam_scan_and_convolution_fit\".format(save_name_prefix), dpi=\"figure\", bbox_inches='tight', facecolor=\"#FF000000\")"
   ]
  },
  {
   "cell_type": "code",
   "execution_count": null,
   "id": "aba842d9-c084-4392-a983-2a9ee432c94d",
   "metadata": {},
   "outputs": [],
   "source": [
    "_plt.rcParams['font.size'] = 17\n",
    "fig, ax = _plt.subplots(1,1,figsize=(9,6))\n",
    "fig.tight_layout()\n",
    "_plt.plot(OFFSETS, _np.gradient(NPHOTONS, OFFSETS), label='gradient from array')\n",
    "popt, pcov = curve_fit(beamWire.func_conv, OFFSETS, NPHOTONS, p0=[2e3, 50e-3, 0, 250e-3])\n",
    "X = _np.linspace(-0.5, 0.5, 500)\n",
    "_plt.plot(X, _np.gradient(beamWire.func_conv(X, A=popt[0], sigma=popt[1], mu=popt[2], R=popt[3]), X), label='gradient from function')\n",
    "\n",
    "_plt.xlabel('Offset from center of pipe [mm]')\n",
    "_plt.ylabel('$\\frac{dN}{dx}$')\n",
    "\n",
    "_plt.savefig(\"{}_derivative_of_photon_beam_profile\".format(save_name_prefix), dpi=\"figure\", bbox_inches='tight', facecolor=\"#FF000000\")"
   ]
  },
  {
   "cell_type": "code",
   "execution_count": null,
   "id": "7c6ea6fd-61b8-4c69-b94e-d988d79a719a",
   "metadata": {},
   "outputs": [],
   "source": [
    "beamWire.analysis(\"../04_dataLocal/T20_for_wire_0.root\")"
   ]
  },
  {
   "cell_type": "code",
   "execution_count": null,
   "id": "778b2dc4-ef93-414b-b326-2c74d5b993b3",
   "metadata": {
    "tags": []
   },
   "outputs": [],
   "source": [
    "beamWire.plot_hist(\"../06_analysis/T20_for_wire_0_hist.root\", \"PHOTONS_E\", steps=False, errorbars=True)\n",
    "_plt.ticklabel_format(axis='both', style='sci', scilimits=(1,8))\n",
    "_plt.savefig(\"{}_photon_beam_X_profile\".format(save_name_prefix), dpi=\"figure\", bbox_inches='tight', facecolor=\"#FF000000\")"
   ]
  },
  {
   "cell_type": "code",
   "execution_count": null,
   "id": "24e17fdc-37e9-4baf-9f2f-69c178b30421",
   "metadata": {},
   "outputs": [],
   "source": []
  }
 ],
 "metadata": {
  "kernelspec": {
   "display_name": "Python 3 (ipykernel)",
   "language": "python",
   "name": "python3"
  },
  "language_info": {
   "codemirror_mode": {
    "name": "ipython",
    "version": 3
   },
   "file_extension": ".py",
   "mimetype": "text/x-python",
   "name": "python",
   "nbconvert_exporter": "python",
   "pygments_lexer": "ipython3",
   "version": "3.11.3"
  }
 },
 "nbformat": 4,
 "nbformat_minor": 5
}
